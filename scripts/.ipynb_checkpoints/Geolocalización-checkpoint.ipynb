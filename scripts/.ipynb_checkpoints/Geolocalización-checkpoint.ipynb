{
 "cells": [
  {
   "cell_type": "markdown",
   "metadata": {},
   "source": [
    "# Geolocalización"
   ]
  },
  {
   "cell_type": "code",
   "execution_count": 2,
   "metadata": {},
   "outputs": [],
   "source": [
    "# Realizamos las importaciones de las librerías que necesitaremos\n",
    "\n",
    "import urllib, json, datetime, pycurl, requests\n",
    "from datetime import date\n",
    "import pandas as pd \n",
    "\n",
    "from bs4 import BeautifulSoup #Web scrapping"
   ]
  },
  {
   "cell_type": "code",
   "execution_count": 3,
   "metadata": {},
   "outputs": [],
   "source": [
    "# URL de donde recibiremos nuestra IP pública:\n",
    "url_ip = \"https://ifconfig.me/ip\""
   ]
  },
  {
   "cell_type": "code",
   "execution_count": 4,
   "metadata": {},
   "outputs": [
    {
     "name": "stdout",
     "output_type": "stream",
     "text": [
      "2020-10-17\n"
     ]
    }
   ],
   "source": [
    "# Obtenemos la fecha del día en curso:\n",
    "fecha = date.today()\n",
    "print(fecha)"
   ]
  },
  {
   "cell_type": "markdown",
   "metadata": {},
   "source": [
    "# Obtenemos la IP pública de nuestra máquina con WebScrapping"
   ]
  },
  {
   "cell_type": "code",
   "execution_count": 5,
   "metadata": {},
   "outputs": [
    {
     "name": "stdout",
     "output_type": "stream",
     "text": [
      "<Response [200]>\n"
     ]
    }
   ],
   "source": [
    "# Requests conecta con la web y devuelve <Response [200]> si ha conectado correctamente. Lo almacenamos en response.\n",
    "response = requests.get(url_ip)\n",
    "print(response)\n"
   ]
  },
  {
   "cell_type": "code",
   "execution_count": 6,
   "metadata": {},
   "outputs": [
    {
     "name": "stdout",
     "output_type": "stream",
     "text": [
      "Se ha conectado correctamente\n"
     ]
    }
   ],
   "source": [
    "# Comprobamos si la conexión devuelve el valor de correcta conexión '<Response [200]>'\n",
    "\n",
    "respuesta=str(response).find(\"<Response [200]>\")\n",
    "if respuesta != -1:\n",
    "    print(\"Se ha conectado correctamente\")\n",
    "else:\n",
    "    print(\"Ha habido un error\")"
   ]
  },
  {
   "cell_type": "code",
   "execution_count": 7,
   "metadata": {},
   "outputs": [],
   "source": [
    "# Obtenemos el contenido de la url:\n",
    "# (En nuestro caso la web únicamente tiene nuestra IP, por lo que no tenemos que hacer nada más)\n",
    "ip_publica = str(BeautifulSoup(response.text, \"html.parser\"))"
   ]
  },
  {
   "cell_type": "code",
   "execution_count": 8,
   "metadata": {},
   "outputs": [
    {
     "data": {
      "text/plain": [
       "'83.42.158.26'"
      ]
     },
     "execution_count": 8,
     "metadata": {},
     "output_type": "execute_result"
    }
   ],
   "source": [
    "ip_publica"
   ]
  },
  {
   "cell_type": "code",
   "execution_count": 9,
   "metadata": {},
   "outputs": [
    {
     "name": "stdout",
     "output_type": "stream",
     "text": [
      "La IP pública es 83.42.158.26\n"
     ]
    }
   ],
   "source": [
    "print(\"La IP pública es \"+ ip_publica)"
   ]
  },
  {
   "cell_type": "markdown",
   "metadata": {},
   "source": [
    "# Obtenemos la ubicación de nuestra IP"
   ]
  },
  {
   "cell_type": "code",
   "execution_count": 10,
   "metadata": {},
   "outputs": [
    {
     "name": "stdout",
     "output_type": "stream",
     "text": [
      "http://api.ipstack.com/83.42.158.26?access_key=8b4e1dcc74ff95df917b5b8ce20879c6&output=json\n"
     ]
    }
   ],
   "source": [
    "# Primero nos damos de alta en la API de https://ipstack.com/\n",
    "\n",
    "id_ipstack = \"8b4e1dcc74ff95df917b5b8ce20879c6\"\n",
    "\n",
    "# Obtenemos la ubicación de nuestra máquina por la dirección IP\n",
    "url_ip= \"http://api.ipstack.com/\"+ip_publica+\"?access_key=\"+id_ipstack+\"&output=json\"\n",
    "print(url_ip)"
   ]
  },
  {
   "cell_type": "code",
   "execution_count": 13,
   "metadata": {},
   "outputs": [
    {
     "name": "stdout",
     "output_type": "stream",
     "text": [
      "{\n",
      "    \"city\": \"Madrid\",\n",
      "    \"continent_code\": \"EU\",\n",
      "    \"continent_name\": \"Europe\",\n",
      "    \"country_code\": \"ES\",\n",
      "    \"country_name\": \"Spain\",\n",
      "    \"ip\": \"83.42.158.26\",\n",
      "    \"latitude\": 40.42618179321289,\n",
      "    \"location\": {\n",
      "        \"calling_code\": \"34\",\n",
      "        \"capital\": \"Madrid\",\n",
      "        \"country_flag\": \"http://assets.ipstack.com/flags/es.svg\",\n",
      "        \"country_flag_emoji\": \"\\ud83c\\uddea\\ud83c\\uddf8\",\n",
      "        \"country_flag_emoji_unicode\": \"U+1F1EA U+1F1F8\",\n",
      "        \"geoname_id\": 3117735,\n",
      "        \"is_eu\": true,\n",
      "        \"languages\": [\n",
      "            {\n",
      "                \"code\": \"es\",\n",
      "                \"name\": \"Spanish\",\n",
      "                \"native\": \"Espa\\u00f1ol\"\n",
      "            },\n",
      "            {\n",
      "                \"code\": \"eu\",\n",
      "                \"name\": \"Basque\",\n",
      "                \"native\": \"Euskara\"\n",
      "            },\n",
      "            {\n",
      "                \"code\": \"ca\",\n",
      "                \"name\": \"Catalan\",\n",
      "                \"native\": \"Catal\\u00e0\"\n",
      "            },\n",
      "            {\n",
      "                \"code\": \"gl\",\n",
      "                \"name\": \"Galician\",\n",
      "                \"native\": \"Galego\"\n",
      "            },\n",
      "            {\n",
      "                \"code\": \"oc\",\n",
      "                \"name\": \"Occitan\",\n",
      "                \"native\": \"Occitan\"\n",
      "            }\n",
      "        ]\n",
      "    },\n",
      "    \"longitude\": -3.6851398944854736,\n",
      "    \"region_code\": \"MD\",\n",
      "    \"region_name\": \"Madrid\",\n",
      "    \"type\": \"ipv4\",\n",
      "    \"zip\": \"28001\"\n",
      "}\n"
     ]
    }
   ],
   "source": [
    "# Recibimos los datos de la web\n",
    "JSONContent = requests.get(url_ip).json()\n",
    "# Conformamos el json\n",
    "content = json.dumps(JSONContent, indent = 4, sort_keys=True)\n",
    "print(content)"
   ]
  },
  {
   "cell_type": "code",
   "execution_count": null,
   "metadata": {},
   "outputs": [],
   "source": []
  },
  {
   "cell_type": "code",
   "execution_count": null,
   "metadata": {},
   "outputs": [],
   "source": []
  },
  {
   "cell_type": "code",
   "execution_count": null,
   "metadata": {},
   "outputs": [],
   "source": []
  },
  {
   "cell_type": "code",
   "execution_count": null,
   "metadata": {},
   "outputs": [],
   "source": []
  },
  {
   "cell_type": "code",
   "execution_count": null,
   "metadata": {},
   "outputs": [],
   "source": []
  },
  {
   "cell_type": "code",
   "execution_count": null,
   "metadata": {},
   "outputs": [],
   "source": []
  },
  {
   "cell_type": "code",
   "execution_count": null,
   "metadata": {},
   "outputs": [],
   "source": []
  },
  {
   "cell_type": "code",
   "execution_count": null,
   "metadata": {},
   "outputs": [],
   "source": []
  },
  {
   "cell_type": "code",
   "execution_count": null,
   "metadata": {},
   "outputs": [],
   "source": []
  },
  {
   "cell_type": "code",
   "execution_count": null,
   "metadata": {},
   "outputs": [],
   "source": []
  },
  {
   "cell_type": "code",
   "execution_count": null,
   "metadata": {},
   "outputs": [],
   "source": []
  },
  {
   "cell_type": "code",
   "execution_count": null,
   "metadata": {},
   "outputs": [],
   "source": []
  },
  {
   "cell_type": "code",
   "execution_count": null,
   "metadata": {},
   "outputs": [],
   "source": []
  },
  {
   "cell_type": "code",
   "execution_count": null,
   "metadata": {},
   "outputs": [],
   "source": []
  },
  {
   "cell_type": "code",
   "execution_count": null,
   "metadata": {},
   "outputs": [],
   "source": []
  },
  {
   "cell_type": "code",
   "execution_count": null,
   "metadata": {},
   "outputs": [],
   "source": []
  },
  {
   "cell_type": "code",
   "execution_count": null,
   "metadata": {},
   "outputs": [],
   "source": []
  },
  {
   "cell_type": "code",
   "execution_count": null,
   "metadata": {},
   "outputs": [],
   "source": []
  },
  {
   "cell_type": "code",
   "execution_count": null,
   "metadata": {},
   "outputs": [],
   "source": []
  },
  {
   "cell_type": "code",
   "execution_count": null,
   "metadata": {},
   "outputs": [],
   "source": []
  },
  {
   "cell_type": "code",
   "execution_count": null,
   "metadata": {},
   "outputs": [],
   "source": []
  },
  {
   "cell_type": "code",
   "execution_count": null,
   "metadata": {},
   "outputs": [],
   "source": []
  },
  {
   "cell_type": "code",
   "execution_count": null,
   "metadata": {},
   "outputs": [],
   "source": []
  },
  {
   "cell_type": "code",
   "execution_count": null,
   "metadata": {},
   "outputs": [],
   "source": []
  },
  {
   "cell_type": "code",
   "execution_count": null,
   "metadata": {},
   "outputs": [],
   "source": []
  },
  {
   "cell_type": "code",
   "execution_count": null,
   "metadata": {},
   "outputs": [],
   "source": []
  },
  {
   "cell_type": "code",
   "execution_count": null,
   "metadata": {},
   "outputs": [],
   "source": []
  },
  {
   "cell_type": "code",
   "execution_count": null,
   "metadata": {},
   "outputs": [],
   "source": []
  },
  {
   "cell_type": "code",
   "execution_count": null,
   "metadata": {},
   "outputs": [],
   "source": []
  },
  {
   "cell_type": "code",
   "execution_count": null,
   "metadata": {},
   "outputs": [],
   "source": []
  },
  {
   "cell_type": "code",
   "execution_count": null,
   "metadata": {},
   "outputs": [],
   "source": []
  }
 ],
 "metadata": {
  "kernelspec": {
   "display_name": "Python 3",
   "language": "python",
   "name": "python3"
  },
  "language_info": {
   "codemirror_mode": {
    "name": "ipython",
    "version": 3
   },
   "file_extension": ".py",
   "mimetype": "text/x-python",
   "name": "python",
   "nbconvert_exporter": "python",
   "pygments_lexer": "ipython3",
   "version": "3.7.1"
  }
 },
 "nbformat": 4,
 "nbformat_minor": 2
}
