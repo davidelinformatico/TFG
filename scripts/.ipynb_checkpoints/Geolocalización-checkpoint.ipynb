{
 "cells": [
  {
   "cell_type": "markdown",
   "metadata": {},
   "source": [
    "# Geolocalización"
   ]
  },
  {
   "cell_type": "code",
   "execution_count": 1,
   "metadata": {},
   "outputs": [],
   "source": [
    "# Realizamos las importaciones de las librerías que necesitaremos\n",
    "\n",
    "import urllib, json, datetime, pycurl, requests\n",
    "from datetime import date\n",
    "import pandas as pd \n",
    "\n",
    "from bs4 import BeautifulSoup #Web scrapping"
   ]
  },
  {
   "cell_type": "code",
   "execution_count": 2,
   "metadata": {},
   "outputs": [],
   "source": [
    "# URL de donde recibiremos nuestra IP pública:\n",
    "url_ip = \"https://ifconfig.me/ip\""
   ]
  },
  {
   "cell_type": "code",
   "execution_count": 3,
   "metadata": {},
   "outputs": [
    {
     "name": "stdout",
     "output_type": "stream",
     "text": [
      "2020-10-18\n"
     ]
    }
   ],
   "source": [
    "# Obtenemos la fecha del día en curso:\n",
    "fecha = date.today()\n",
    "print(fecha)"
   ]
  },
  {
   "cell_type": "markdown",
   "metadata": {},
   "source": [
    "# Obtenemos la IP pública de nuestra máquina con WebScrapping"
   ]
  },
  {
   "cell_type": "code",
   "execution_count": 4,
   "metadata": {},
   "outputs": [
    {
     "name": "stdout",
     "output_type": "stream",
     "text": [
      "<Response [200]>\n"
     ]
    }
   ],
   "source": [
    "# Requests conecta con la web y devuelve <Response [200]> si ha conectado correctamente. Lo almacenamos en response.\n",
    "response = requests.get(url_ip)\n",
    "print(response)\n"
   ]
  },
  {
   "cell_type": "code",
   "execution_count": 5,
   "metadata": {},
   "outputs": [
    {
     "name": "stdout",
     "output_type": "stream",
     "text": [
      "Se ha conectado correctamente\n"
     ]
    }
   ],
   "source": [
    "# Comprobamos si la conexión devuelve el valor de correcta conexión '<Response [200]>'\n",
    "\n",
    "respuesta=str(response).find(\"<Response [200]>\")\n",
    "if respuesta != -1:\n",
    "    print(\"Se ha conectado correctamente\")\n",
    "else:\n",
    "    print(\"Ha habido un error\")"
   ]
  },
  {
   "cell_type": "code",
   "execution_count": 6,
   "metadata": {},
   "outputs": [],
   "source": [
    "# Obtenemos el contenido de la url:\n",
    "# (En nuestro caso la web únicamente tiene nuestra IP, por lo que no tenemos que hacer nada más)\n",
    "ip_publica = str(BeautifulSoup(response.text, \"html.parser\"))"
   ]
  },
  {
   "cell_type": "code",
   "execution_count": 7,
   "metadata": {},
   "outputs": [
    {
     "data": {
      "text/plain": [
       "'83.42.158.26'"
      ]
     },
     "execution_count": 7,
     "metadata": {},
     "output_type": "execute_result"
    }
   ],
   "source": [
    "ip_publica"
   ]
  },
  {
   "cell_type": "code",
   "execution_count": 8,
   "metadata": {},
   "outputs": [
    {
     "name": "stdout",
     "output_type": "stream",
     "text": [
      "La IP pública es 83.42.158.26\n"
     ]
    }
   ],
   "source": [
    "print(\"La IP pública es \"+ ip_publica)"
   ]
  },
  {
   "cell_type": "markdown",
   "metadata": {},
   "source": [
    "# Obtenemos la ubicación de nuestra IP"
   ]
  },
  {
   "cell_type": "code",
   "execution_count": 9,
   "metadata": {},
   "outputs": [
    {
     "name": "stdout",
     "output_type": "stream",
     "text": [
      "http://api.ipstack.com/83.42.158.26?access_key=8b4e1dcc74ff95df917b5b8ce20879c6&output=json\n"
     ]
    }
   ],
   "source": [
    "# Primero nos damos de alta en la API de https://ipstack.com/\n",
    "\n",
    "id_ipstack = \"8b4e1dcc74ff95df917b5b8ce20879c6\"\n",
    "\n",
    "# Obtenemos la ubicación de nuestra máquina por la dirección IP\n",
    "url_ip= \"http://api.ipstack.com/\"+ip_publica+\"?access_key=\"+id_ipstack+\"&output=json\"\n",
    "print(url_ip)"
   ]
  },
  {
   "cell_type": "code",
   "execution_count": 10,
   "metadata": {},
   "outputs": [
    {
     "name": "stdout",
     "output_type": "stream",
     "text": [
      "{\n",
      "    \"city\": \"Madrid\",\n",
      "    \"continent_code\": \"EU\",\n",
      "    \"continent_name\": \"Europe\",\n",
      "    \"country_code\": \"ES\",\n",
      "    \"country_name\": \"Spain\",\n",
      "    \"ip\": \"83.42.158.26\",\n",
      "    \"latitude\": 40.42618179321289,\n",
      "    \"location\": {\n",
      "        \"calling_code\": \"34\",\n",
      "        \"capital\": \"Madrid\",\n",
      "        \"country_flag\": \"http://assets.ipstack.com/flags/es.svg\",\n",
      "        \"country_flag_emoji\": \"\\ud83c\\uddea\\ud83c\\uddf8\",\n",
      "        \"country_flag_emoji_unicode\": \"U+1F1EA U+1F1F8\",\n",
      "        \"geoname_id\": 3117735,\n",
      "        \"is_eu\": true,\n",
      "        \"languages\": [\n",
      "            {\n",
      "                \"code\": \"es\",\n",
      "                \"name\": \"Spanish\",\n",
      "                \"native\": \"Espa\\u00f1ol\"\n",
      "            },\n",
      "            {\n",
      "                \"code\": \"eu\",\n",
      "                \"name\": \"Basque\",\n",
      "                \"native\": \"Euskara\"\n",
      "            },\n",
      "            {\n",
      "                \"code\": \"ca\",\n",
      "                \"name\": \"Catalan\",\n",
      "                \"native\": \"Catal\\u00e0\"\n",
      "            },\n",
      "            {\n",
      "                \"code\": \"gl\",\n",
      "                \"name\": \"Galician\",\n",
      "                \"native\": \"Galego\"\n",
      "            },\n",
      "            {\n",
      "                \"code\": \"oc\",\n",
      "                \"name\": \"Occitan\",\n",
      "                \"native\": \"Occitan\"\n",
      "            }\n",
      "        ]\n",
      "    },\n",
      "    \"longitude\": -3.6851398944854736,\n",
      "    \"region_code\": \"MD\",\n",
      "    \"region_name\": \"Madrid\",\n",
      "    \"type\": \"ipv4\",\n",
      "    \"zip\": \"28001\"\n",
      "}\n"
     ]
    }
   ],
   "source": [
    "# Recibimos los datos de la web\n",
    "JSONContent = requests.get(url_ip).json()\n",
    "# Conformamos el json\n",
    "content = json.dumps(JSONContent, indent = 4, sort_keys=True)\n",
    "print(content)"
   ]
  },
  {
   "cell_type": "code",
   "execution_count": 11,
   "metadata": {},
   "outputs": [],
   "source": [
    "# Generamos un dataset\n",
    "dataset = pd.read_json(url_ip)"
   ]
  },
  {
   "cell_type": "code",
   "execution_count": 12,
   "metadata": {},
   "outputs": [
    {
     "name": "stdout",
     "output_type": "stream",
     "text": [
      "                                      ip  type continent_code continent_name  \\\n",
      "calling_code                83.42.158.26  ipv4             EU         Europe   \n",
      "capital                     83.42.158.26  ipv4             EU         Europe   \n",
      "country_flag                83.42.158.26  ipv4             EU         Europe   \n",
      "country_flag_emoji          83.42.158.26  ipv4             EU         Europe   \n",
      "country_flag_emoji_unicode  83.42.158.26  ipv4             EU         Europe   \n",
      "geoname_id                  83.42.158.26  ipv4             EU         Europe   \n",
      "is_eu                       83.42.158.26  ipv4             EU         Europe   \n",
      "languages                   83.42.158.26  ipv4             EU         Europe   \n",
      "\n",
      "                           country_code country_name region_code region_name  \\\n",
      "calling_code                         ES        Spain          MD      Madrid   \n",
      "capital                              ES        Spain          MD      Madrid   \n",
      "country_flag                         ES        Spain          MD      Madrid   \n",
      "country_flag_emoji                   ES        Spain          MD      Madrid   \n",
      "country_flag_emoji_unicode           ES        Spain          MD      Madrid   \n",
      "geoname_id                           ES        Spain          MD      Madrid   \n",
      "is_eu                                ES        Spain          MD      Madrid   \n",
      "languages                            ES        Spain          MD      Madrid   \n",
      "\n",
      "                              city    zip   latitude  longitude  \\\n",
      "calling_code                Madrid  28001  40.426182   -3.68514   \n",
      "capital                     Madrid  28001  40.426182   -3.68514   \n",
      "country_flag                Madrid  28001  40.426182   -3.68514   \n",
      "country_flag_emoji          Madrid  28001  40.426182   -3.68514   \n",
      "country_flag_emoji_unicode  Madrid  28001  40.426182   -3.68514   \n",
      "geoname_id                  Madrid  28001  40.426182   -3.68514   \n",
      "is_eu                       Madrid  28001  40.426182   -3.68514   \n",
      "languages                   Madrid  28001  40.426182   -3.68514   \n",
      "\n",
      "                                                                     location  \n",
      "calling_code                                                               34  \n",
      "capital                                                                Madrid  \n",
      "country_flag                           http://assets.ipstack.com/flags/es.svg  \n",
      "country_flag_emoji                                                         🇪🇸  \n",
      "country_flag_emoji_unicode                                    U+1F1EA U+1F1F8  \n",
      "geoname_id                                                            3117735  \n",
      "is_eu                                                                    True  \n",
      "languages                   [{'code': 'es', 'name': 'Spanish', 'native': '...  \n"
     ]
    }
   ],
   "source": [
    "# Mostramos la cabecera 34\n",
    "print(dataset.head(34))"
   ]
  },
  {
   "cell_type": "code",
   "execution_count": 13,
   "metadata": {},
   "outputs": [
    {
     "name": "stdout",
     "output_type": "stream",
     "text": [
      "Nos conectamos desde la ciudad de Madrid\n"
     ]
    }
   ],
   "source": [
    "datos=dataset.city\n",
    "ciudad=datos.capital\n",
    "#print(ciudad)\n",
    "print(\"Nos conectamos desde la ciudad de \"+ciudad)"
   ]
  },
  {
   "cell_type": "markdown",
   "metadata": {},
   "source": [
    "### https://www.weatherapi.com/"
   ]
  },
  {
   "cell_type": "code",
   "execution_count": 14,
   "metadata": {},
   "outputs": [],
   "source": [
    "# Tras darnos de alta en el servicio de la web https://www.weatherapi.com/\n",
    "# Obtendremos un ID sin coste para poder recibir la información del tiempo\n",
    "\n",
    "id_weatherapi = \"e60395a64bf647c29f984953200410\"\n",
    "\n"
   ]
  },
  {
   "cell_type": "code",
   "execution_count": null,
   "metadata": {},
   "outputs": [],
   "source": []
  },
  {
   "cell_type": "code",
   "execution_count": null,
   "metadata": {},
   "outputs": [],
   "source": []
  },
  {
   "cell_type": "code",
   "execution_count": null,
   "metadata": {},
   "outputs": [],
   "source": []
  },
  {
   "cell_type": "code",
   "execution_count": null,
   "metadata": {},
   "outputs": [],
   "source": []
  },
  {
   "cell_type": "code",
   "execution_count": null,
   "metadata": {},
   "outputs": [],
   "source": []
  },
  {
   "cell_type": "code",
   "execution_count": null,
   "metadata": {},
   "outputs": [],
   "source": []
  },
  {
   "cell_type": "code",
   "execution_count": null,
   "metadata": {},
   "outputs": [],
   "source": []
  },
  {
   "cell_type": "code",
   "execution_count": null,
   "metadata": {},
   "outputs": [],
   "source": []
  },
  {
   "cell_type": "code",
   "execution_count": null,
   "metadata": {},
   "outputs": [],
   "source": []
  },
  {
   "cell_type": "code",
   "execution_count": null,
   "metadata": {},
   "outputs": [],
   "source": []
  },
  {
   "cell_type": "code",
   "execution_count": null,
   "metadata": {},
   "outputs": [],
   "source": []
  },
  {
   "cell_type": "code",
   "execution_count": null,
   "metadata": {},
   "outputs": [],
   "source": []
  },
  {
   "cell_type": "code",
   "execution_count": null,
   "metadata": {},
   "outputs": [],
   "source": []
  },
  {
   "cell_type": "code",
   "execution_count": null,
   "metadata": {},
   "outputs": [],
   "source": []
  },
  {
   "cell_type": "code",
   "execution_count": null,
   "metadata": {},
   "outputs": [],
   "source": []
  },
  {
   "cell_type": "code",
   "execution_count": null,
   "metadata": {},
   "outputs": [],
   "source": []
  },
  {
   "cell_type": "code",
   "execution_count": null,
   "metadata": {},
   "outputs": [],
   "source": []
  },
  {
   "cell_type": "code",
   "execution_count": null,
   "metadata": {},
   "outputs": [],
   "source": []
  },
  {
   "cell_type": "code",
   "execution_count": null,
   "metadata": {},
   "outputs": [],
   "source": []
  },
  {
   "cell_type": "code",
   "execution_count": null,
   "metadata": {},
   "outputs": [],
   "source": []
  },
  {
   "cell_type": "code",
   "execution_count": null,
   "metadata": {},
   "outputs": [],
   "source": []
  },
  {
   "cell_type": "code",
   "execution_count": null,
   "metadata": {},
   "outputs": [],
   "source": []
  },
  {
   "cell_type": "code",
   "execution_count": null,
   "metadata": {},
   "outputs": [],
   "source": []
  },
  {
   "cell_type": "code",
   "execution_count": null,
   "metadata": {},
   "outputs": [],
   "source": []
  },
  {
   "cell_type": "code",
   "execution_count": null,
   "metadata": {},
   "outputs": [],
   "source": []
  },
  {
   "cell_type": "code",
   "execution_count": null,
   "metadata": {},
   "outputs": [],
   "source": []
  }
 ],
 "metadata": {
  "kernelspec": {
   "display_name": "Python 3",
   "language": "python",
   "name": "python3"
  },
  "language_info": {
   "codemirror_mode": {
    "name": "ipython",
    "version": 3
   },
   "file_extension": ".py",
   "mimetype": "text/x-python",
   "name": "python",
   "nbconvert_exporter": "python",
   "pygments_lexer": "ipython3",
   "version": "3.7.1"
  }
 },
 "nbformat": 4,
 "nbformat_minor": 2
}
