{
 "cells": [
  {
   "cell_type": "markdown",
   "metadata": {},
   "source": [
    "# Preparamos los datos para nuestro script\n"
   ]
  },
  {
   "cell_type": "code",
   "execution_count": 1,
   "metadata": {},
   "outputs": [],
   "source": [
    "import urllib, json, pycurl, requests, datetime\n",
    "from datetime import date\n",
    "import pandas as pd \n",
    "import matplotlib.pyplot as plt\n",
    "\n",
    "from bs4 import BeautifulSoup #Web scrapping\n",
    "\n"
   ]
  },
  {
   "cell_type": "code",
   "execution_count": 2,
   "metadata": {},
   "outputs": [],
   "source": [
    "# Montamos la URL de donde recibiremos nuestra IP pública:\n",
    "url_ip=\"http://ip-api.com/json/?fields=status,message,continent,continentCode,country,countryCode,region,regionName,city,district,zip,lat,lon,timezone,offset,currency,isp,org,as,asname,reverse,mobile,proxy,hosting,query\""
   ]
  },
  {
   "cell_type": "code",
   "execution_count": 3,
   "metadata": {},
   "outputs": [
    {
     "name": "stdout",
     "output_type": "stream",
     "text": [
      "La fecha de hoy es: 2020-10-22\n"
     ]
    }
   ],
   "source": [
    "# Obtenemos la fecha del día en curso:\n",
    "fecha_hoy = date.today()\n",
    "print(\"La fecha de hoy es: \"+str(fecha_hoy))"
   ]
  },
  {
   "cell_type": "code",
   "execution_count": 6,
   "metadata": {},
   "outputs": [
    {
     "name": "stdout",
     "output_type": "stream",
     "text": [
      "La fecha de mañana es: 2020-10-23\n"
     ]
    }
   ],
   "source": [
    "# Obtenemos la fecha del día de mañana:\n",
    "fecha_manana = fecha_hoy + datetime.timedelta(days=1)\n",
    "print(\"La fecha de mañana es:\", fecha_manana)"
   ]
  },
  {
   "cell_type": "markdown",
   "metadata": {},
   "source": [
    "# Obtenemos la IP pública de nuestra máquina con WebScrapping\n"
   ]
  },
  {
   "cell_type": "code",
   "execution_count": 7,
   "metadata": {},
   "outputs": [],
   "source": [
    "# Requests conecta con la web y devuelve <Response [200]> si ha conectado correctamente. Lo almacenamos en response.\n",
    "try:\n",
    "    response = requests.get(url_ip)\n",
    "except:\n",
    "    response = -1000\n",
    "    print(\"No se puede comunicar con la web!!\")\n",
    "#print(response)"
   ]
  },
  {
   "cell_type": "code",
   "execution_count": 8,
   "metadata": {},
   "outputs": [
    {
     "name": "stdout",
     "output_type": "stream",
     "text": [
      "Se ha conectado correctamente\n"
     ]
    }
   ],
   "source": [
    "# Comprobamos si la conexión devuelve el valor de correcta conexión '<Response [200]>'\n",
    "respuesta=str(response).find(\"<Response [200]>\")\n",
    "if respuesta != -1:\n",
    "    print(\"Se ha conectado correctamente\")\n",
    "else:\n",
    "    print(\"Ha habido un error\")"
   ]
  },
  {
   "cell_type": "code",
   "execution_count": 9,
   "metadata": {},
   "outputs": [],
   "source": [
    "# Obtenemos el contenido de la url:\n",
    "sopa = requests.get(url_ip)"
   ]
  },
  {
   "cell_type": "code",
   "execution_count": 10,
   "metadata": {},
   "outputs": [
    {
     "data": {
      "text/plain": [
       "<Response [200]>"
      ]
     },
     "execution_count": 10,
     "metadata": {},
     "output_type": "execute_result"
    }
   ],
   "source": [
    "sopa"
   ]
  },
  {
   "cell_type": "code",
   "execution_count": 11,
   "metadata": {},
   "outputs": [
    {
     "data": {
      "text/plain": [
       "{'status': 'success',\n",
       " 'continent': 'Europe',\n",
       " 'continentCode': 'EU',\n",
       " 'country': 'Spain',\n",
       " 'countryCode': 'ES',\n",
       " 'region': 'MD',\n",
       " 'regionName': 'Madrid',\n",
       " 'city': 'Getafe',\n",
       " 'district': '',\n",
       " 'zip': '28905',\n",
       " 'lat': 40.3057,\n",
       " 'lon': -3.7329,\n",
       " 'timezone': 'Europe/Madrid',\n",
       " 'offset': 7200,\n",
       " 'currency': 'EUR',\n",
       " 'isp': 'Telefonica de Espana SAU',\n",
       " 'org': 'RIMA (Red IP Multi Acceso)',\n",
       " 'as': 'AS3352 TELEFONICA DE ESPANA',\n",
       " 'asname': 'Telefonica_de_Espana',\n",
       " 'reverse': '26.red-83-42-158.dynamicip.rima-tde.net',\n",
       " 'mobile': False,\n",
       " 'proxy': False,\n",
       " 'hosting': False,\n",
       " 'query': '83.42.158.26'}"
      ]
     },
     "execution_count": 11,
     "metadata": {},
     "output_type": "execute_result"
    }
   ],
   "source": [
    "# Tratamos los datos como json\n",
    "sopa_dict = dict(json.loads(sopa.content))\n",
    "sopa_dict"
   ]
  },
  {
   "cell_type": "code",
   "execution_count": 12,
   "metadata": {},
   "outputs": [
    {
     "name": "stdout",
     "output_type": "stream",
     "text": [
      "Podemos ver que nos muestra el valor de la ciudad, que en mi caso es Getafe.\n",
      "Getafe pertenece a la provincia de Madrid.\n"
     ]
    }
   ],
   "source": [
    "print(\"Podemos ver que nos muestra el valor de la ciudad, que en mi caso es \"+sopa_dict['city']+\".\")\n",
    "print(sopa_dict['city']+\" pertenece a la provincia de \"+sopa_dict['regionName']+\".\")"
   ]
  },
  {
   "cell_type": "code",
   "execution_count": 13,
   "metadata": {},
   "outputs": [
    {
     "name": "stdout",
     "output_type": "stream",
     "text": [
      "la ciudad es Getafe\n",
      "La región es Madrid\n",
      "La ip pública es 83.42.158.26\n",
      "La latitud es 40.3057\n",
      "La longitud es -3.7329\n",
      "El ISP es Telefonica de Espana SAU\n"
     ]
    }
   ],
   "source": [
    "# Obtenemos los valores que necesitamos para el tiempo\n",
    "ciudad = sopa_dict['city']\n",
    "region = sopa_dict['regionName']\n",
    "ip_publica = sopa_dict['query']\n",
    "LAT = sopa_dict['lat']\n",
    "LON = sopa_dict['lon']\n",
    "ISP = sopa_dict['isp']\n",
    "\n",
    "print(\"la ciudad es \"+ciudad)\n",
    "print(\"La región es \"+region)\n",
    "print(\"La ip pública es \"+ip_publica)\n",
    "print(\"La latitud es \"+str(LAT))\n",
    "print(\"La longitud es \"+str(LON))\n",
    "print(\"El ISP es \"+ISP)"
   ]
  },
  {
   "cell_type": "markdown",
   "metadata": {},
   "source": [
    "## El tiempo"
   ]
  },
  {
   "cell_type": "code",
   "execution_count": 14,
   "metadata": {},
   "outputs": [],
   "source": [
    "# La URL de la API\n",
    "url_tiempo = \"https://api.climacell.co/v3/weather/forecast/hourly\""
   ]
  },
  {
   "cell_type": "code",
   "execution_count": 15,
   "metadata": {},
   "outputs": [],
   "source": [
    "# Llamamos a mi key personal de Climacell, que está en otro directorio.\n",
    "result = open('./../../Recursos/KeyClimacell.txt')\n",
    "Key = result.read()\n",
    "result.close() \n",
    "#KeyClimacell"
   ]
  },
  {
   "cell_type": "code",
   "execution_count": 16,
   "metadata": {},
   "outputs": [],
   "source": [
    "# Montamos la consulta\n",
    "querystring = {\"lat\": LAT,\"lon\": LON,\"unit_system\":\"si\",\"start_time\":\"now\",\"fields\":\"temp\",\"apikey\": Key}\n",
    "# Recogemos la \"sopa\" de datos\n",
    "sopa_tiempo = requests.request(\"GET\", url_tiempo, params=querystring)"
   ]
  },
  {
   "cell_type": "code",
   "execution_count": 17,
   "metadata": {},
   "outputs": [
    {
     "name": "stdout",
     "output_type": "stream",
     "text": [
      "<Response [200]>\n"
     ]
    }
   ],
   "source": [
    "print(sopa_tiempo)"
   ]
  },
  {
   "cell_type": "code",
   "execution_count": 18,
   "metadata": {},
   "outputs": [],
   "source": [
    "# Convertimos a json\n",
    "sopa_tiempo_json = sopa_tiempo.json()"
   ]
  },
  {
   "cell_type": "code",
   "execution_count": 19,
   "metadata": {},
   "outputs": [
    {
     "data": {
      "text/plain": [
       "[{'lat': 40.3057,\n",
       "  'lon': -3.7329,\n",
       "  'temp': {'value': 16.18, 'units': 'C'},\n",
       "  'observation_time': {'value': '2020-10-22T11:00:00.000Z'}},\n",
       " {'lat': 40.3057,\n",
       "  'lon': -3.7329,\n",
       "  'temp': {'value': 16.66, 'units': 'C'},\n",
       "  'observation_time': {'value': '2020-10-22T12:00:00.000Z'}},\n",
       " {'lat': 40.3057,\n",
       "  'lon': -3.7329,\n",
       "  'temp': {'value': 15.96, 'units': 'C'},\n",
       "  'observation_time': {'value': '2020-10-22T13:00:00.000Z'}},\n",
       " {'lat': 40.3057,\n",
       "  'lon': -3.7329,\n",
       "  'temp': {'value': 15.45, 'units': 'C'},\n",
       "  'observation_time': {'value': '2020-10-22T14:00:00.000Z'}},\n",
       " {'lat': 40.3057,\n",
       "  'lon': -3.7329,\n",
       "  'temp': {'value': 15.46, 'units': 'C'},\n",
       "  'observation_time': {'value': '2020-10-22T15:00:00.000Z'}},\n",
       " {'lat': 40.3057,\n",
       "  'lon': -3.7329,\n",
       "  'temp': {'value': 15.2, 'units': 'C'},\n",
       "  'observation_time': {'value': '2020-10-22T16:00:00.000Z'}},\n",
       " {'lat': 40.3057,\n",
       "  'lon': -3.7329,\n",
       "  'temp': {'value': 14.79, 'units': 'C'},\n",
       "  'observation_time': {'value': '2020-10-22T17:00:00.000Z'}},\n",
       " {'lat': 40.3057,\n",
       "  'lon': -3.7329,\n",
       "  'temp': {'value': 14.14, 'units': 'C'},\n",
       "  'observation_time': {'value': '2020-10-22T18:00:00.000Z'}},\n",
       " {'lat': 40.3057,\n",
       "  'lon': -3.7329,\n",
       "  'temp': {'value': 13.74, 'units': 'C'},\n",
       "  'observation_time': {'value': '2020-10-22T19:00:00.000Z'}},\n",
       " {'lat': 40.3057,\n",
       "  'lon': -3.7329,\n",
       "  'temp': {'value': 13.41, 'units': 'C'},\n",
       "  'observation_time': {'value': '2020-10-22T20:00:00.000Z'}},\n",
       " {'lat': 40.3057,\n",
       "  'lon': -3.7329,\n",
       "  'temp': {'value': 13.35, 'units': 'C'},\n",
       "  'observation_time': {'value': '2020-10-22T21:00:00.000Z'}},\n",
       " {'lat': 40.3057,\n",
       "  'lon': -3.7329,\n",
       "  'temp': {'value': 13.04, 'units': 'C'},\n",
       "  'observation_time': {'value': '2020-10-22T22:00:00.000Z'}},\n",
       " {'lat': 40.3057,\n",
       "  'lon': -3.7329,\n",
       "  'temp': {'value': 12.59, 'units': 'C'},\n",
       "  'observation_time': {'value': '2020-10-22T23:00:00.000Z'}},\n",
       " {'lat': 40.3057,\n",
       "  'lon': -3.7329,\n",
       "  'temp': {'value': 12.13, 'units': 'C'},\n",
       "  'observation_time': {'value': '2020-10-23T00:00:00.000Z'}},\n",
       " {'lat': 40.3057,\n",
       "  'lon': -3.7329,\n",
       "  'temp': {'value': 11.86, 'units': 'C'},\n",
       "  'observation_time': {'value': '2020-10-23T01:00:00.000Z'}},\n",
       " {'lat': 40.3057,\n",
       "  'lon': -3.7329,\n",
       "  'temp': {'value': 11.66, 'units': 'C'},\n",
       "  'observation_time': {'value': '2020-10-23T02:00:00.000Z'}},\n",
       " {'lat': 40.3057,\n",
       "  'lon': -3.7329,\n",
       "  'temp': {'value': 11.33, 'units': 'C'},\n",
       "  'observation_time': {'value': '2020-10-23T03:00:00.000Z'}},\n",
       " {'lat': 40.3057,\n",
       "  'lon': -3.7329,\n",
       "  'temp': {'value': 10.99, 'units': 'C'},\n",
       "  'observation_time': {'value': '2020-10-23T04:00:00.000Z'}},\n",
       " {'lat': 40.3057,\n",
       "  'lon': -3.7329,\n",
       "  'temp': {'value': 10.46, 'units': 'C'},\n",
       "  'observation_time': {'value': '2020-10-23T05:00:00.000Z'}},\n",
       " {'lat': 40.3057,\n",
       "  'lon': -3.7329,\n",
       "  'temp': {'value': 10.09, 'units': 'C'},\n",
       "  'observation_time': {'value': '2020-10-23T06:00:00.000Z'}},\n",
       " {'lat': 40.3057,\n",
       "  'lon': -3.7329,\n",
       "  'temp': {'value': 9.96, 'units': 'C'},\n",
       "  'observation_time': {'value': '2020-10-23T07:00:00.000Z'}},\n",
       " {'lat': 40.3057,\n",
       "  'lon': -3.7329,\n",
       "  'temp': {'value': 10.84, 'units': 'C'},\n",
       "  'observation_time': {'value': '2020-10-23T08:00:00.000Z'}},\n",
       " {'lat': 40.3057,\n",
       "  'lon': -3.7329,\n",
       "  'temp': {'value': 12.18, 'units': 'C'},\n",
       "  'observation_time': {'value': '2020-10-23T09:00:00.000Z'}},\n",
       " {'lat': 40.3057,\n",
       "  'lon': -3.7329,\n",
       "  'temp': {'value': 12.9, 'units': 'C'},\n",
       "  'observation_time': {'value': '2020-10-23T10:00:00.000Z'}},\n",
       " {'lat': 40.3057,\n",
       "  'lon': -3.7329,\n",
       "  'temp': {'value': 13.74, 'units': 'C'},\n",
       "  'observation_time': {'value': '2020-10-23T11:00:00.000Z'}},\n",
       " {'lat': 40.3057,\n",
       "  'lon': -3.7329,\n",
       "  'temp': {'value': 14.52, 'units': 'C'},\n",
       "  'observation_time': {'value': '2020-10-23T12:00:00.000Z'}},\n",
       " {'lat': 40.3057,\n",
       "  'lon': -3.7329,\n",
       "  'temp': {'value': 15.12, 'units': 'C'},\n",
       "  'observation_time': {'value': '2020-10-23T13:00:00.000Z'}},\n",
       " {'lat': 40.3057,\n",
       "  'lon': -3.7329,\n",
       "  'temp': {'value': 14.91, 'units': 'C'},\n",
       "  'observation_time': {'value': '2020-10-23T14:00:00.000Z'}},\n",
       " {'lat': 40.3057,\n",
       "  'lon': -3.7329,\n",
       "  'temp': {'value': 15.17, 'units': 'C'},\n",
       "  'observation_time': {'value': '2020-10-23T15:00:00.000Z'}},\n",
       " {'lat': 40.3057,\n",
       "  'lon': -3.7329,\n",
       "  'temp': {'value': 15.16, 'units': 'C'},\n",
       "  'observation_time': {'value': '2020-10-23T16:00:00.000Z'}},\n",
       " {'lat': 40.3057,\n",
       "  'lon': -3.7329,\n",
       "  'temp': {'value': 14.39, 'units': 'C'},\n",
       "  'observation_time': {'value': '2020-10-23T17:00:00.000Z'}},\n",
       " {'lat': 40.3057,\n",
       "  'lon': -3.7329,\n",
       "  'temp': {'value': 13.14, 'units': 'C'},\n",
       "  'observation_time': {'value': '2020-10-23T18:00:00.000Z'}},\n",
       " {'lat': 40.3057,\n",
       "  'lon': -3.7329,\n",
       "  'temp': {'value': 12.31, 'units': 'C'},\n",
       "  'observation_time': {'value': '2020-10-23T19:00:00.000Z'}},\n",
       " {'lat': 40.3057,\n",
       "  'lon': -3.7329,\n",
       "  'temp': {'value': 11.63, 'units': 'C'},\n",
       "  'observation_time': {'value': '2020-10-23T20:00:00.000Z'}},\n",
       " {'lat': 40.3057,\n",
       "  'lon': -3.7329,\n",
       "  'temp': {'value': 11.2, 'units': 'C'},\n",
       "  'observation_time': {'value': '2020-10-23T21:00:00.000Z'}},\n",
       " {'lat': 40.3057,\n",
       "  'lon': -3.7329,\n",
       "  'temp': {'value': 10.78, 'units': 'C'},\n",
       "  'observation_time': {'value': '2020-10-23T22:00:00.000Z'}},\n",
       " {'lat': 40.3057,\n",
       "  'lon': -3.7329,\n",
       "  'temp': {'value': 10.36, 'units': 'C'},\n",
       "  'observation_time': {'value': '2020-10-23T23:00:00.000Z'}},\n",
       " {'lat': 40.3057,\n",
       "  'lon': -3.7329,\n",
       "  'temp': {'value': 9.94, 'units': 'C'},\n",
       "  'observation_time': {'value': '2020-10-24T00:00:00.000Z'}},\n",
       " {'lat': 40.3057,\n",
       "  'lon': -3.7329,\n",
       "  'temp': {'value': 9.54, 'units': 'C'},\n",
       "  'observation_time': {'value': '2020-10-24T01:00:00.000Z'}},\n",
       " {'lat': 40.3057,\n",
       "  'lon': -3.7329,\n",
       "  'temp': {'value': 9.09, 'units': 'C'},\n",
       "  'observation_time': {'value': '2020-10-24T02:00:00.000Z'}},\n",
       " {'lat': 40.3057,\n",
       "  'lon': -3.7329,\n",
       "  'temp': {'value': 8.67, 'units': 'C'},\n",
       "  'observation_time': {'value': '2020-10-24T03:00:00.000Z'}},\n",
       " {'lat': 40.3057,\n",
       "  'lon': -3.7329,\n",
       "  'temp': {'value': 8.22, 'units': 'C'},\n",
       "  'observation_time': {'value': '2020-10-24T04:00:00.000Z'}},\n",
       " {'lat': 40.3057,\n",
       "  'lon': -3.7329,\n",
       "  'temp': {'value': 7.64, 'units': 'C'},\n",
       "  'observation_time': {'value': '2020-10-24T05:00:00.000Z'}},\n",
       " {'lat': 40.3057,\n",
       "  'lon': -3.7329,\n",
       "  'temp': {'value': 7.48, 'units': 'C'},\n",
       "  'observation_time': {'value': '2020-10-24T06:00:00.000Z'}},\n",
       " {'lat': 40.3057,\n",
       "  'lon': -3.7329,\n",
       "  'temp': {'value': 6.99, 'units': 'C'},\n",
       "  'observation_time': {'value': '2020-10-24T07:00:00.000Z'}},\n",
       " {'lat': 40.3057,\n",
       "  'lon': -3.7329,\n",
       "  'temp': {'value': 7.36, 'units': 'C'},\n",
       "  'observation_time': {'value': '2020-10-24T08:00:00.000Z'}},\n",
       " {'lat': 40.3057,\n",
       "  'lon': -3.7329,\n",
       "  'temp': {'value': 9.45, 'units': 'C'},\n",
       "  'observation_time': {'value': '2020-10-24T09:00:00.000Z'}},\n",
       " {'lat': 40.3057,\n",
       "  'lon': -3.7329,\n",
       "  'temp': {'value': 12.67, 'units': 'C'},\n",
       "  'observation_time': {'value': '2020-10-24T10:00:00.000Z'}},\n",
       " {'lat': 40.3057,\n",
       "  'lon': -3.7329,\n",
       "  'temp': {'value': 14.11, 'units': 'C'},\n",
       "  'observation_time': {'value': '2020-10-24T11:00:00.000Z'}},\n",
       " {'lat': 40.3057,\n",
       "  'lon': -3.7329,\n",
       "  'temp': {'value': 15.2, 'units': 'C'},\n",
       "  'observation_time': {'value': '2020-10-24T12:00:00.000Z'}},\n",
       " {'lat': 40.3057,\n",
       "  'lon': -3.7329,\n",
       "  'temp': {'value': 15.76, 'units': 'C'},\n",
       "  'observation_time': {'value': '2020-10-24T13:00:00.000Z'}},\n",
       " {'lat': 40.3057,\n",
       "  'lon': -3.7329,\n",
       "  'temp': {'value': 15.99, 'units': 'C'},\n",
       "  'observation_time': {'value': '2020-10-24T14:00:00.000Z'}},\n",
       " {'lat': 40.3057,\n",
       "  'lon': -3.7329,\n",
       "  'temp': {'value': 15.82, 'units': 'C'},\n",
       "  'observation_time': {'value': '2020-10-24T15:00:00.000Z'}},\n",
       " {'lat': 40.3057,\n",
       "  'lon': -3.7329,\n",
       "  'temp': {'value': 15.39, 'units': 'C'},\n",
       "  'observation_time': {'value': '2020-10-24T16:00:00.000Z'}},\n",
       " {'lat': 40.3057,\n",
       "  'lon': -3.7329,\n",
       "  'temp': {'value': 14.22, 'units': 'C'},\n",
       "  'observation_time': {'value': '2020-10-24T17:00:00.000Z'}},\n",
       " {'lat': 40.3057,\n",
       "  'lon': -3.7329,\n",
       "  'temp': {'value': 12.79, 'units': 'C'},\n",
       "  'observation_time': {'value': '2020-10-24T18:00:00.000Z'}},\n",
       " {'lat': 40.3057,\n",
       "  'lon': -3.7329,\n",
       "  'temp': {'value': 11.74, 'units': 'C'},\n",
       "  'observation_time': {'value': '2020-10-24T19:00:00.000Z'}},\n",
       " {'lat': 40.3057,\n",
       "  'lon': -3.7329,\n",
       "  'temp': {'value': 11.16, 'units': 'C'},\n",
       "  'observation_time': {'value': '2020-10-24T20:00:00.000Z'}},\n",
       " {'lat': 40.3057,\n",
       "  'lon': -3.7329,\n",
       "  'temp': {'value': 10.72, 'units': 'C'},\n",
       "  'observation_time': {'value': '2020-10-24T21:00:00.000Z'}},\n",
       " {'lat': 40.3057,\n",
       "  'lon': -3.7329,\n",
       "  'temp': {'value': 10.29, 'units': 'C'},\n",
       "  'observation_time': {'value': '2020-10-24T22:00:00.000Z'}},\n",
       " {'lat': 40.3057,\n",
       "  'lon': -3.7329,\n",
       "  'temp': {'value': 10.04, 'units': 'C'},\n",
       "  'observation_time': {'value': '2020-10-24T23:00:00.000Z'}},\n",
       " {'lat': 40.3057,\n",
       "  'lon': -3.7329,\n",
       "  'temp': {'value': 9.81, 'units': 'C'},\n",
       "  'observation_time': {'value': '2020-10-25T00:00:00.000Z'}},\n",
       " {'lat': 40.3057,\n",
       "  'lon': -3.7329,\n",
       "  'temp': {'value': 9.41, 'units': 'C'},\n",
       "  'observation_time': {'value': '2020-10-25T01:00:00.000Z'}},\n",
       " {'lat': 40.3057,\n",
       "  'lon': -3.7329,\n",
       "  'temp': {'value': 9.05, 'units': 'C'},\n",
       "  'observation_time': {'value': '2020-10-25T02:00:00.000Z'}},\n",
       " {'lat': 40.3057,\n",
       "  'lon': -3.7329,\n",
       "  'temp': {'value': 9.06, 'units': 'C'},\n",
       "  'observation_time': {'value': '2020-10-25T03:00:00.000Z'}},\n",
       " {'lat': 40.3057,\n",
       "  'lon': -3.7329,\n",
       "  'temp': {'value': 9.09, 'units': 'C'},\n",
       "  'observation_time': {'value': '2020-10-25T04:00:00.000Z'}},\n",
       " {'lat': 40.3057,\n",
       "  'lon': -3.7329,\n",
       "  'temp': {'value': 9.05, 'units': 'C'},\n",
       "  'observation_time': {'value': '2020-10-25T05:00:00.000Z'}},\n",
       " {'lat': 40.3057,\n",
       "  'lon': -3.7329,\n",
       "  'temp': {'value': 9.38, 'units': 'C'},\n",
       "  'observation_time': {'value': '2020-10-25T06:00:00.000Z'}},\n",
       " {'lat': 40.3057,\n",
       "  'lon': -3.7329,\n",
       "  'temp': {'value': 9.69, 'units': 'C'},\n",
       "  'observation_time': {'value': '2020-10-25T07:00:00.000Z'}},\n",
       " {'lat': 40.3057,\n",
       "  'lon': -3.7329,\n",
       "  'temp': {'value': 10.09, 'units': 'C'},\n",
       "  'observation_time': {'value': '2020-10-25T08:00:00.000Z'}},\n",
       " {'lat': 40.3057,\n",
       "  'lon': -3.7329,\n",
       "  'temp': {'value': 10.61, 'units': 'C'},\n",
       "  'observation_time': {'value': '2020-10-25T09:00:00.000Z'}},\n",
       " {'lat': 40.3057,\n",
       "  'lon': -3.7329,\n",
       "  'temp': {'value': 11.09, 'units': 'C'},\n",
       "  'observation_time': {'value': '2020-10-25T10:00:00.000Z'}},\n",
       " {'lat': 40.3057,\n",
       "  'lon': -3.7329,\n",
       "  'temp': {'value': 11.54, 'units': 'C'},\n",
       "  'observation_time': {'value': '2020-10-25T11:00:00.000Z'}},\n",
       " {'lat': 40.3057,\n",
       "  'lon': -3.7329,\n",
       "  'temp': {'value': 11.93, 'units': 'C'},\n",
       "  'observation_time': {'value': '2020-10-25T12:00:00.000Z'}},\n",
       " {'lat': 40.3057,\n",
       "  'lon': -3.7329,\n",
       "  'temp': {'value': 11.93, 'units': 'C'},\n",
       "  'observation_time': {'value': '2020-10-25T13:00:00.000Z'}},\n",
       " {'lat': 40.3057,\n",
       "  'lon': -3.7329,\n",
       "  'temp': {'value': 11.93, 'units': 'C'},\n",
       "  'observation_time': {'value': '2020-10-25T14:00:00.000Z'}},\n",
       " {'lat': 40.3057,\n",
       "  'lon': -3.7329,\n",
       "  'temp': {'value': 12.55, 'units': 'C'},\n",
       "  'observation_time': {'value': '2020-10-25T15:00:00.000Z'}},\n",
       " {'lat': 40.3057,\n",
       "  'lon': -3.7329,\n",
       "  'temp': {'value': 12.55, 'units': 'C'},\n",
       "  'observation_time': {'value': '2020-10-25T16:00:00.000Z'}},\n",
       " {'lat': 40.3057,\n",
       "  'lon': -3.7329,\n",
       "  'temp': {'value': 12.55, 'units': 'C'},\n",
       "  'observation_time': {'value': '2020-10-25T17:00:00.000Z'}},\n",
       " {'lat': 40.3057,\n",
       "  'lon': -3.7329,\n",
       "  'temp': {'value': 11.35, 'units': 'C'},\n",
       "  'observation_time': {'value': '2020-10-25T18:00:00.000Z'}},\n",
       " {'lat': 40.3057,\n",
       "  'lon': -3.7329,\n",
       "  'temp': {'value': 11.35, 'units': 'C'},\n",
       "  'observation_time': {'value': '2020-10-25T19:00:00.000Z'}},\n",
       " {'lat': 40.3057,\n",
       "  'lon': -3.7329,\n",
       "  'temp': {'value': 11.35, 'units': 'C'},\n",
       "  'observation_time': {'value': '2020-10-25T20:00:00.000Z'}},\n",
       " {'lat': 40.3057,\n",
       "  'lon': -3.7329,\n",
       "  'temp': {'value': 9.02, 'units': 'C'},\n",
       "  'observation_time': {'value': '2020-10-25T21:00:00.000Z'}},\n",
       " {'lat': 40.3057,\n",
       "  'lon': -3.7329,\n",
       "  'temp': {'value': 9.02, 'units': 'C'},\n",
       "  'observation_time': {'value': '2020-10-25T22:00:00.000Z'}},\n",
       " {'lat': 40.3057,\n",
       "  'lon': -3.7329,\n",
       "  'temp': {'value': 9.02, 'units': 'C'},\n",
       "  'observation_time': {'value': '2020-10-25T23:00:00.000Z'}},\n",
       " {'lat': 40.3057,\n",
       "  'lon': -3.7329,\n",
       "  'temp': {'value': 7.81, 'units': 'C'},\n",
       "  'observation_time': {'value': '2020-10-26T00:00:00.000Z'}},\n",
       " {'lat': 40.3057,\n",
       "  'lon': -3.7329,\n",
       "  'temp': {'value': 7.81, 'units': 'C'},\n",
       "  'observation_time': {'value': '2020-10-26T01:00:00.000Z'}},\n",
       " {'lat': 40.3057,\n",
       "  'lon': -3.7329,\n",
       "  'temp': {'value': 7.81, 'units': 'C'},\n",
       "  'observation_time': {'value': '2020-10-26T02:00:00.000Z'}},\n",
       " {'lat': 40.3057,\n",
       "  'lon': -3.7329,\n",
       "  'temp': {'value': 6.87, 'units': 'C'},\n",
       "  'observation_time': {'value': '2020-10-26T03:00:00.000Z'}},\n",
       " {'lat': 40.3057,\n",
       "  'lon': -3.7329,\n",
       "  'temp': {'value': 6.87, 'units': 'C'},\n",
       "  'observation_time': {'value': '2020-10-26T04:00:00.000Z'}},\n",
       " {'lat': 40.3057,\n",
       "  'lon': -3.7329,\n",
       "  'temp': {'value': 6.87, 'units': 'C'},\n",
       "  'observation_time': {'value': '2020-10-26T05:00:00.000Z'}},\n",
       " {'lat': 40.3057,\n",
       "  'lon': -3.7329,\n",
       "  'temp': {'value': 6.26, 'units': 'C'},\n",
       "  'observation_time': {'value': '2020-10-26T06:00:00.000Z'}},\n",
       " {'lat': 40.3057,\n",
       "  'lon': -3.7329,\n",
       "  'temp': {'value': 6.26, 'units': 'C'},\n",
       "  'observation_time': {'value': '2020-10-26T07:00:00.000Z'}},\n",
       " {'lat': 40.3057,\n",
       "  'lon': -3.7329,\n",
       "  'temp': {'value': 6.26, 'units': 'C'},\n",
       "  'observation_time': {'value': '2020-10-26T08:00:00.000Z'}},\n",
       " {'lat': 40.3057,\n",
       "  'lon': -3.7329,\n",
       "  'temp': {'value': 8.83, 'units': 'C'},\n",
       "  'observation_time': {'value': '2020-10-26T09:00:00.000Z'}},\n",
       " {'lat': 40.3057,\n",
       "  'lon': -3.7329,\n",
       "  'temp': {'value': 8.83, 'units': 'C'},\n",
       "  'observation_time': {'value': '2020-10-26T10:00:00.000Z'}},\n",
       " {'lat': 40.3057,\n",
       "  'lon': -3.7329,\n",
       "  'temp': {'value': 8.83, 'units': 'C'},\n",
       "  'observation_time': {'value': '2020-10-26T11:00:00.000Z'}},\n",
       " {'lat': 40.3057,\n",
       "  'lon': -3.7329,\n",
       "  'temp': {'value': 12.68, 'units': 'C'},\n",
       "  'observation_time': {'value': '2020-10-26T12:00:00.000Z'}},\n",
       " {'lat': 40.3057,\n",
       "  'lon': -3.7329,\n",
       "  'temp': {'value': 12.68, 'units': 'C'},\n",
       "  'observation_time': {'value': '2020-10-26T13:00:00.000Z'}},\n",
       " {'lat': 40.3057,\n",
       "  'lon': -3.7329,\n",
       "  'temp': {'value': 12.68, 'units': 'C'},\n",
       "  'observation_time': {'value': '2020-10-26T14:00:00.000Z'}},\n",
       " {'lat': 40.3057,\n",
       "  'lon': -3.7329,\n",
       "  'temp': {'value': 13.44, 'units': 'C'},\n",
       "  'observation_time': {'value': '2020-10-26T15:00:00.000Z'}},\n",
       " {'lat': 40.3057,\n",
       "  'lon': -3.7329,\n",
       "  'temp': {'value': 13.44, 'units': 'C'},\n",
       "  'observation_time': {'value': '2020-10-26T16:00:00.000Z'}},\n",
       " {'lat': 40.3057,\n",
       "  'lon': -3.7329,\n",
       "  'temp': {'value': 13.44, 'units': 'C'},\n",
       "  'observation_time': {'value': '2020-10-26T17:00:00.000Z'}},\n",
       " {'lat': 40.3057,\n",
       "  'lon': -3.7329,\n",
       "  'temp': {'value': 10.65, 'units': 'C'},\n",
       "  'observation_time': {'value': '2020-10-26T18:00:00.000Z'}},\n",
       " {'lat': 40.3057,\n",
       "  'lon': -3.7329,\n",
       "  'temp': {'value': 10.65, 'units': 'C'},\n",
       "  'observation_time': {'value': '2020-10-26T19:00:00.000Z'}},\n",
       " {'lat': 40.3057,\n",
       "  'lon': -3.7329,\n",
       "  'temp': {'value': 10.65, 'units': 'C'},\n",
       "  'observation_time': {'value': '2020-10-26T20:00:00.000Z'}},\n",
       " {'lat': 40.3057,\n",
       "  'lon': -3.7329,\n",
       "  'temp': {'value': 10.65, 'units': 'C'},\n",
       "  'observation_time': {'value': '2020-10-26T21:00:00.000Z'}},\n",
       " {'lat': 40.3057,\n",
       "  'lon': -3.7329,\n",
       "  'temp': {'value': 8.46, 'units': 'C'},\n",
       "  'observation_time': {'value': '2020-10-26T22:00:00.000Z'}},\n",
       " {'lat': 40.3057,\n",
       "  'lon': -3.7329,\n",
       "  'temp': {'value': 7.85, 'units': 'C'},\n",
       "  'observation_time': {'value': '2020-10-26T23:00:00.000Z'}}]"
      ]
     },
     "execution_count": 19,
     "metadata": {},
     "output_type": "execute_result"
    }
   ],
   "source": [
    "sopa_tiempo_json"
   ]
  },
  {
   "cell_type": "code",
   "execution_count": 20,
   "metadata": {},
   "outputs": [
    {
     "name": "stdout",
     "output_type": "stream",
     "text": [
      "\n",
      "De esta manera obtenemos el día\n",
      "2020-10-23:12.13\n",
      "2020-10-23:11.86\n",
      "2020-10-23:11.66\n",
      "2020-10-23:11.33\n",
      "2020-10-23:10.99\n",
      "2020-10-23:10.46\n",
      "2020-10-23:10.09\n",
      "2020-10-23:9.96\n",
      "2020-10-23:10.84\n",
      "2020-10-23:12.18\n",
      "2020-10-23:12.9\n",
      "2020-10-23:13.74\n",
      "2020-10-23:14.52\n",
      "2020-10-23:15.12\n",
      "2020-10-23:14.91\n",
      "2020-10-23:15.17\n",
      "2020-10-23:15.16\n",
      "2020-10-23:14.39\n",
      "2020-10-23:13.14\n",
      "2020-10-23:12.31\n",
      "2020-10-23:11.63\n",
      "2020-10-23:11.2\n",
      "2020-10-23:10.78\n",
      "2020-10-23:10.36\n"
     ]
    }
   ],
   "source": [
    "b = str(fecha_manana)\n",
    "print(\"\")\n",
    "print(\"De esta manera obtenemos el día\")\n",
    "for i in range (100):\n",
    "    a = (str(sopa_tiempo_json[i]['observation_time']['value'][:10]))\n",
    "    #print(a)\n",
    "    if (a == b):\n",
    "        print(a+\":\"+str(sopa_tiempo_json[i]['temp']['value'])) "
   ]
  },
  {
   "cell_type": "code",
   "execution_count": 21,
   "metadata": {
    "scrolled": true
   },
   "outputs": [
    {
     "name": "stdout",
     "output_type": "stream",
     "text": [
      "\n",
      "De esta manera obtenemos la hora y la temperatura del día de mañana:\n",
      "00:12.13\n",
      "01:11.86\n",
      "02:11.66\n",
      "03:11.33\n",
      "04:10.99\n",
      "05:10.46\n",
      "06:10.09\n",
      "07:9.96\n",
      "08:10.84\n",
      "09:12.18\n",
      "10:12.9\n",
      "11:13.74\n",
      "12:14.52\n",
      "13:15.12\n",
      "14:14.91\n",
      "15:15.17\n",
      "16:15.16\n",
      "17:14.39\n",
      "18:13.14\n",
      "19:12.31\n",
      "20:11.63\n",
      "21:11.2\n",
      "22:10.78\n",
      "23:10.36\n"
     ]
    }
   ],
   "source": [
    "# Como vamos a tratar las horas y temperaturas como un diccionario:\n",
    "th = {}\n",
    "# Guardamos fecha\n",
    "b = str(fecha_manana)\n",
    "print(\"\")\n",
    "print(\"De esta manera obtenemos la hora y la temperatura del día de mañana:\")\n",
    "for i in range (100):\n",
    "    a = (str(sopa_tiempo_json[i]['observation_time']['value'][:10]))\n",
    "    #print(a)\n",
    "    if (a == b):\n",
    "        th[i] = str(sopa_tiempo_json[i]['observation_time']['value'][11])+str(sopa_tiempo_json[i]['observation_time']['value'][12])+\":\"+str(sopa_tiempo_json[i]['temp']['value'])\n",
    "        print(th[i])"
   ]
  },
  {
   "cell_type": "code",
   "execution_count": 29,
   "metadata": {
    "scrolled": true
   },
   "outputs": [],
   "source": [
    "# Pasamos los valores a lista\n",
    "lista = list(th.values())\n",
    "# Creamos un diccionario final\n",
    "temperatura_hora={}\n",
    "\n",
    "# Introducimos las temperaturas en el nuevo diccionario\n",
    "for i in range (24):\n",
    "    #lista[i][:2]\n",
    "    temperatura_hora[i]=float(lista[i][3:])"
   ]
  },
  {
   "cell_type": "code",
   "execution_count": 30,
   "metadata": {},
   "outputs": [
    {
     "data": {
      "text/plain": [
       "{0: 12.13,\n",
       " 1: 11.86,\n",
       " 2: 11.66,\n",
       " 3: 11.33,\n",
       " 4: 10.99,\n",
       " 5: 10.46,\n",
       " 6: 10.09,\n",
       " 7: 9.96,\n",
       " 8: 10.84,\n",
       " 9: 12.18,\n",
       " 10: 12.9,\n",
       " 11: 13.74,\n",
       " 12: 14.52,\n",
       " 13: 15.12,\n",
       " 14: 14.91,\n",
       " 15: 15.17,\n",
       " 16: 15.16,\n",
       " 17: 14.39,\n",
       " 18: 13.14,\n",
       " 19: 12.31,\n",
       " 20: 11.63,\n",
       " 21: 11.2,\n",
       " 22: 10.78,\n",
       " 23: 10.36}"
      ]
     },
     "execution_count": 30,
     "metadata": {},
     "output_type": "execute_result"
    }
   ],
   "source": [
    "temperatura_hora"
   ]
  },
  {
   "cell_type": "code",
   "execution_count": 31,
   "metadata": {},
   "outputs": [
    {
     "data": {
      "text/plain": [
       "dict_items([(0, 12.13), (1, 11.86), (2, 11.66), (3, 11.33), (4, 10.99), (5, 10.46), (6, 10.09), (7, 9.96), (8, 10.84), (9, 12.18), (10, 12.9), (11, 13.74), (12, 14.52), (13, 15.12), (14, 14.91), (15, 15.17), (16, 15.16), (17, 14.39), (18, 13.14), (19, 12.31), (20, 11.63), (21, 11.2), (22, 10.78), (23, 10.36)])"
      ]
     },
     "execution_count": 31,
     "metadata": {},
     "output_type": "execute_result"
    }
   ],
   "source": [
    "temperatura_hora.items()"
   ]
  },
  {
   "cell_type": "code",
   "execution_count": 33,
   "metadata": {},
   "outputs": [
    {
     "data": {
      "image/png": "[encoded data removed]",
      "text/plain": [
       "<Figure size 432x288 with 1 Axes>"
      ]
     },
     "metadata": {
      "needs_background": "light"
     },
     "output_type": "display_data"
    }
   ],
   "source": [
    "# Ordenamos los valores por la hora\n",
    "lists = sorted(temperatura_hora.items())\n",
    "\n",
    "# Hacemos las asignaciones x,y\n",
    "x, y = zip(*lists) \n",
    "\n",
    "# Corrección y graficado de las temperaturas del día de mañana\n",
    "plt.plot(x, y)\n",
    "plt.show()"
   ]
  },
  {
   "cell_type": "code",
   "execution_count": 34,
   "metadata": {},
   "outputs": [],
   "source": [
    "## Ahora, una vez obtenidos estos datos podemos enviarlos a través de una API de mensajería como la disponible en los BOTs de TElegram.\n",
    "# De esta manera, cuando queramos, desde el propio bot, podemos ordenar una nueva solicitud a la API y que nos devuelva\n",
    "# las temperaturas del día siguiente pudiendo determinar temperaturas máximas, mínimas o enviar el grafo en formato imagen."
   ]
  },
  {
   "cell_type": "code",
   "execution_count": 44,
   "metadata": {},
   "outputs": [],
   "source": [
    "# Calculamos la hora a la que tenemos más temperatura\n",
    "hora_maxima = max(temperatura_hora, key=temperatura_hora.get)\n",
    "\n"
   ]
  },
  {
   "cell_type": "code",
   "execution_count": null,
   "metadata": {},
   "outputs": [],
   "source": []
  },
  {
   "cell_type": "code",
   "execution_count": null,
   "metadata": {},
   "outputs": [],
   "source": []
  }
 ],
 "metadata": {
  "kernelspec": {
   "display_name": "Python 3",
   "language": "python",
   "name": "python3"
  },
  "language_info": {
   "codemirror_mode": {
    "name": "ipython",
    "version": 3
   },
   "file_extension": ".py",
   "mimetype": "text/x-python",
   "name": "python",
   "nbconvert_exporter": "python",
   "pygments_lexer": "ipython3",
   "version": "3.7.1"
  }
 },
 "nbformat": 4,
 "nbformat_minor": 2
}
