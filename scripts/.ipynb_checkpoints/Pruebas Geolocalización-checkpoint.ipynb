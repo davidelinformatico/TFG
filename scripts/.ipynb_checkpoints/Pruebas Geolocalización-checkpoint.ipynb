{
 "cells": [
  {
   "cell_type": "markdown",
   "metadata": {},
   "source": [
    "# Preparamos los datos para nuestro script\n"
   ]
  },
  {
   "cell_type": "code",
   "execution_count": 1,
   "metadata": {},
   "outputs": [],
   "source": [
    "import urllib, json, pycurl, requests, datetime\n",
    "from datetime import date\n",
    "import pandas as pd \n",
    "import matplotlib.pyplot as plt\n",
    "\n",
    "from bs4 import BeautifulSoup #Web scrapping\n",
    "\n"
   ]
  },
  {
   "cell_type": "code",
   "execution_count": 2,
   "metadata": {},
   "outputs": [],
   "source": [
    "# Montamos la URL de donde recibiremos nuestra IP pública:\n",
    "url_ip=\"http://ip-api.com/json/?fields=status,message,continent,continentCode,country,countryCode,region,regionName,city,district,zip,lat,lon,timezone,offset,currency,isp,org,as,asname,reverse,mobile,proxy,hosting,query\""
   ]
  },
  {
   "cell_type": "code",
   "execution_count": 3,
   "metadata": {},
   "outputs": [
    {
     "name": "stdout",
     "output_type": "stream",
     "text": [
      "La fecha de hoy es: 2020-10-22\n"
     ]
    }
   ],
   "source": [
    "# Obtenemos la fecha del día en curso:\n",
    "fecha_hoy = date.today()\n",
    "print(\"La fecha de hoy es: \"+str(fecha_hoy))"
   ]
  },
  {
   "cell_type": "code",
   "execution_count": 4,
   "metadata": {},
   "outputs": [
    {
     "name": "stdout",
     "output_type": "stream",
     "text": [
      "La fecha de mañana es: 2020-10-23\n"
     ]
    }
   ],
   "source": [
    "# Obtenemos la fecha del día de mañana:\n",
    "fecha_manana = fecha_hoy + datetime.timedelta(days=1)\n",
    "print(\"La fecha de mañana es:\", fecha_manana)"
   ]
  },
  {
   "cell_type": "markdown",
   "metadata": {},
   "source": [
    "# Obtenemos la IP pública de nuestra máquina con WebScrapping\n"
   ]
  },
  {
   "cell_type": "code",
   "execution_count": 5,
   "metadata": {},
   "outputs": [],
   "source": [
    "# Requests conecta con la web y devuelve <Response [200]> si ha conectado correctamente. Lo almacenamos en response.\n",
    "try:\n",
    "    response = requests.get(url_ip)\n",
    "except:\n",
    "    response = -1000\n",
    "    print(\"No se puede comunicar con la web!!\")\n",
    "#print(response)"
   ]
  },
  {
   "cell_type": "code",
   "execution_count": 6,
   "metadata": {},
   "outputs": [
    {
     "name": "stdout",
     "output_type": "stream",
     "text": [
      "Se ha conectado correctamente\n"
     ]
    }
   ],
   "source": [
    "# Comprobamos si la conexión devuelve el valor de correcta conexión '<Response [200]>'\n",
    "respuesta=str(response).find(\"<Response [200]>\")\n",
    "if respuesta != -1:\n",
    "    print(\"Se ha conectado correctamente\")\n",
    "else:\n",
    "    print(\"Ha habido un error\")"
   ]
  },
  {
   "cell_type": "code",
   "execution_count": 7,
   "metadata": {},
   "outputs": [],
   "source": [
    "# Obtenemos el contenido de la url:\n",
    "sopa = requests.get(url_ip)"
   ]
  },
  {
   "cell_type": "code",
   "execution_count": 8,
   "metadata": {},
   "outputs": [],
   "source": [
    "#sopa"
   ]
  },
  {
   "cell_type": "code",
   "execution_count": 9,
   "metadata": {},
   "outputs": [],
   "source": [
    "# Tratamos los datos como json\n",
    "sopa_dict = dict(json.loads(sopa.content))\n",
    "#sopa_dict"
   ]
  },
  {
   "cell_type": "code",
   "execution_count": 10,
   "metadata": {},
   "outputs": [
    {
     "name": "stdout",
     "output_type": "stream",
     "text": [
      "Podemos ver que nos muestra el valor de la ciudad, que en mi caso es Getafe.\n",
      "Getafe pertenece a la provincia de Madrid.\n"
     ]
    }
   ],
   "source": [
    "print(\"Podemos ver que nos muestra el valor de la ciudad, que en mi caso es \"+sopa_dict['city']+\".\")\n",
    "print(sopa_dict['city']+\" pertenece a la provincia de \"+sopa_dict['regionName']+\".\")"
   ]
  },
  {
   "cell_type": "code",
   "execution_count": 11,
   "metadata": {},
   "outputs": [
    {
     "name": "stdout",
     "output_type": "stream",
     "text": [
      "la ciudad es Getafe\n",
      "La región es Madrid\n"
     ]
    }
   ],
   "source": [
    "# Obtenemos los valores que necesitamos para el tiempo\n",
    "ciudad = sopa_dict['city']\n",
    "region = sopa_dict['regionName']\n",
    "ip_publica = sopa_dict['query']\n",
    "LAT = sopa_dict['lat']\n",
    "LON = sopa_dict['lon']\n",
    "ISP = sopa_dict['isp']\n",
    "\n",
    "print(\"la ciudad es \"+ciudad)\n",
    "print(\"La región es \"+region)\n",
    "#print(\"La ip pública es \"+ip_publica)\n",
    "#print(\"La latitud es \"+str(LAT))\n",
    "#print(\"La longitud es \"+str(LON))\n",
    "#print(\"El ISP es \"+ISP)"
   ]
  },
  {
   "cell_type": "markdown",
   "metadata": {},
   "source": [
    "## El tiempo"
   ]
  },
  {
   "cell_type": "code",
   "execution_count": 12,
   "metadata": {},
   "outputs": [],
   "source": [
    "# La URL de la API\n",
    "url_tiempo = \"https://api.climacell.co/v3/weather/forecast/hourly\""
   ]
  },
  {
   "cell_type": "code",
   "execution_count": 13,
   "metadata": {},
   "outputs": [],
   "source": [
    "# Llamamos a mi key personal de Climacell, que está en otro directorio.\n",
    "result = open('./../../Recursos/KeyClimacell.txt')\n",
    "Key = result.read()\n",
    "result.close() \n",
    "#KeyClimacell"
   ]
  },
  {
   "cell_type": "code",
   "execution_count": 14,
   "metadata": {},
   "outputs": [],
   "source": [
    "# Montamos la consulta\n",
    "querystring = {\"lat\": LAT,\"lon\": LON,\"unit_system\":\"si\",\"start_time\":\"now\",\"fields\":\"temp\",\"apikey\": Key}\n",
    "# Recogemos la \"sopa\" de datos\n",
    "sopa_tiempo = requests.request(\"GET\", url_tiempo, params=querystring)"
   ]
  },
  {
   "cell_type": "code",
   "execution_count": 15,
   "metadata": {},
   "outputs": [],
   "source": [
    "#print(sopa_tiempo)"
   ]
  },
  {
   "cell_type": "code",
   "execution_count": 16,
   "metadata": {},
   "outputs": [],
   "source": [
    "# Convertimos a json\n",
    "sopa_tiempo_json = sopa_tiempo.json()"
   ]
  },
  {
   "cell_type": "code",
   "execution_count": 17,
   "metadata": {},
   "outputs": [],
   "source": [
    "#sopa_tiempo_json"
   ]
  },
  {
   "cell_type": "markdown",
   "metadata": {},
   "source": [
    "# SEGÚN CUANDO SE LANCE ESTE SCRIPT EL VALOR b SERÁ FECHA_MANANA O FECHA_HOY"
   ]
  },
  {
   "cell_type": "code",
   "execution_count": 18,
   "metadata": {
    "scrolled": true
   },
   "outputs": [
    {
     "name": "stdout",
     "output_type": "stream",
     "text": [
      "\n"
     ]
    }
   ],
   "source": [
    "# Como vamos a tratar las horas y temperaturas como un diccionario:\n",
    "th = {}\n",
    "# Guardamos fecha\n",
    "b = str(fecha_manana)\n",
    "print(\"\")\n",
    "#print(\"De esta manera obtenemos la hora y la temperatura del día de mañana:\")\n",
    "for i in range (100):\n",
    "    a = (str(sopa_tiempo_json[i]['observation_time']['value'][:10]))\n",
    "    #print(a)\n",
    "    if (a == b):\n",
    "        th[i] = str(sopa_tiempo_json[i]['observation_time']['value'][11])+str(sopa_tiempo_json[i]['observation_time']['value'][12])+\":\"+str(sopa_tiempo_json[i]['temp']['value'])\n",
    "        #print(th[i])"
   ]
  },
  {
   "cell_type": "code",
   "execution_count": 19,
   "metadata": {
    "scrolled": true
   },
   "outputs": [],
   "source": [
    "# Pasamos los valores a lista\n",
    "lista = list(th.values())\n",
    "# Creamos un diccionario final\n",
    "temperatura_hora={}\n",
    "\n",
    "# Introducimos las temperaturas en el nuevo diccionario\n",
    "for i in range (24):\n",
    "    #lista[i][:2]\n",
    "    temperatura_hora[i]=float(lista[i][3:])"
   ]
  },
  {
   "cell_type": "code",
   "execution_count": 20,
   "metadata": {},
   "outputs": [],
   "source": [
    "#temperatura_hora"
   ]
  },
  {
   "cell_type": "code",
   "execution_count": 21,
   "metadata": {},
   "outputs": [],
   "source": [
    "#temperatura_hora.items()"
   ]
  },
  {
   "cell_type": "code",
   "execution_count": 34,
   "metadata": {},
   "outputs": [
    {
     "data": {
      "image/png": "[encoded data removed]",
      "text/plain": [
       "<Figure size 432x288 with 1 Axes>"
      ]
     },
     "metadata": {
      "needs_background": "light"
     },
     "output_type": "display_data"
    }
   ],
   "source": [
    "# Ordenamos los valores por la hora\n",
    "lists = sorted(temperatura_hora.items())\n",
    "\n",
    "# Hacemos las asignaciones x,y\n",
    "x, y = zip(*lists) \n",
    "\n",
    "plt.grid()\n",
    "plt.title(\"Temperaturas día \"+b)\n",
    "plt.xlabel(\"Horas\")\n",
    "plt.ylabel(\"Temperatura C\")\n",
    "\n",
    "\n",
    "# Corrección y graficado de las temperaturas del día de mañana\n",
    "plt.plot(x, y)\n",
    "plt.show()"
   ]
  },
  {
   "cell_type": "code",
   "execution_count": 23,
   "metadata": {},
   "outputs": [],
   "source": [
    "## Ahora, una vez obtenidos estos datos podemos enviarlos a través de una API de mensajería como la disponible en los BOTs \n",
    "## de Telegram.\n",
    "\n",
    "# De esta manera, cuando queramos, desde el propio bot, podemos ordenar una nueva solicitud a la API y que nos devuelva\n",
    "# las temperaturas del día siguiente pudiendo determinar temperaturas máximas, mínimas o enviar el grafo en formato imagen."
   ]
  },
  {
   "cell_type": "code",
   "execution_count": 24,
   "metadata": {},
   "outputs": [
    {
     "data": {
      "text/plain": [
       "15.17"
      ]
     },
     "execution_count": 24,
     "metadata": {},
     "output_type": "execute_result"
    }
   ],
   "source": [
    "# Calculamos la hora a la que tenemos más temperatura\n",
    "hora_maxima = max(temperatura_hora, key=temperatura_hora.get)\n",
    "# Mostramos la temperatura máxima (a la hora donde se cumple)\n",
    "temperatura_hora[hora_maxima]"
   ]
  },
  {
   "cell_type": "code",
   "execution_count": 25,
   "metadata": {},
   "outputs": [
    {
     "data": {
      "text/plain": [
       "9.96"
      ]
     },
     "execution_count": 25,
     "metadata": {},
     "output_type": "execute_result"
    }
   ],
   "source": [
    "# Calculamos la hora a la que tenemos menos temperatura\n",
    "hora_minima = min(temperatura_hora, key=temperatura_hora.get)\n",
    "# Mostramos la temperatura mínima (a la hora donde se cumple)\n",
    "temperatura_hora[hora_minima]"
   ]
  },
  {
   "cell_type": "code",
   "execution_count": null,
   "metadata": {},
   "outputs": [],
   "source": []
  },
  {
   "cell_type": "code",
   "execution_count": null,
   "metadata": {},
   "outputs": [],
   "source": []
  }
 ],
 "metadata": {
  "kernelspec": {
   "display_name": "Python 3",
   "language": "python",
   "name": "python3"
  },
  "language_info": {
   "codemirror_mode": {
    "name": "ipython",
    "version": 3
   },
   "file_extension": ".py",
   "mimetype": "text/x-python",
   "name": "python",
   "nbconvert_exporter": "python",
   "pygments_lexer": "ipython3",
   "version": "3.7.1"
  }
 },
 "nbformat": 4,
 "nbformat_minor": 2
}
