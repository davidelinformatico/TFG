{
 "cells": [
  {
   "cell_type": "markdown",
   "metadata": {},
   "source": [
    "# Preparamos los datos para nuestro script\n"
   ]
  },
  {
   "cell_type": "code",
   "execution_count": 1,
   "metadata": {},
   "outputs": [],
   "source": [
    "import urllib, json, datetime, pycurl, requests\n",
    "from datetime import date\n",
    "import pandas as pd \n",
    "import matplotlib.pyplot as plt\n",
    "\n",
    "from bs4 import BeautifulSoup #Web scrapping\n"
   ]
  },
  {
   "cell_type": "code",
   "execution_count": 2,
   "metadata": {},
   "outputs": [],
   "source": [
    "# Montamos la URL de donde recibiremos nuestra IP pública:\n",
    "url_ip=\"http://ip-api.com/json/?fields=status,message,continent,continentCode,country,countryCode,region,regionName,city,district,zip,lat,lon,timezone,offset,currency,isp,org,as,asname,reverse,mobile,proxy,hosting,query\""
   ]
  },
  {
   "cell_type": "code",
   "execution_count": 3,
   "metadata": {},
   "outputs": [
    {
     "name": "stdout",
     "output_type": "stream",
     "text": [
      "2020-10-21\n"
     ]
    }
   ],
   "source": [
    "# Obtenemos la fecha del día en curso:\n",
    "fecha = date.today()\n",
    "print(fecha)"
   ]
  },
  {
   "cell_type": "markdown",
   "metadata": {},
   "source": [
    "# Obtenemos la IP pública de nuestra máquina con WebScrapping\n"
   ]
  },
  {
   "cell_type": "code",
   "execution_count": 4,
   "metadata": {},
   "outputs": [],
   "source": [
    "# Requests conecta con la web y devuelve <Response [200]> si ha conectado correctamente. Lo almacenamos en response.\n",
    "try:\n",
    "    response = requests.get(url_ip)\n",
    "except:\n",
    "    response = -1000\n",
    "    print(\"No se puede comunicar con la web!!\")\n",
    "#print(response)"
   ]
  },
  {
   "cell_type": "code",
   "execution_count": 5,
   "metadata": {},
   "outputs": [
    {
     "name": "stdout",
     "output_type": "stream",
     "text": [
      "Se ha conectado correctamente\n"
     ]
    }
   ],
   "source": [
    "# Comprobamos si la conexión devuelve el valor de correcta conexión '<Response [200]>'\n",
    "respuesta=str(response).find(\"<Response [200]>\")\n",
    "if respuesta != -1:\n",
    "    print(\"Se ha conectado correctamente\")\n",
    "else:\n",
    "    print(\"Ha habido un error\")"
   ]
  },
  {
   "cell_type": "code",
   "execution_count": 6,
   "metadata": {},
   "outputs": [],
   "source": [
    "# Obtenemos el contenido de la url:\n",
    "sopa = requests.get(url_ip)"
   ]
  },
  {
   "cell_type": "code",
   "execution_count": 7,
   "metadata": {},
   "outputs": [
    {
     "data": {
      "text/plain": [
       "<Response [200]>"
      ]
     },
     "execution_count": 7,
     "metadata": {},
     "output_type": "execute_result"
    }
   ],
   "source": [
    "sopa"
   ]
  },
  {
   "cell_type": "code",
   "execution_count": 8,
   "metadata": {},
   "outputs": [
    {
     "data": {
      "text/plain": [
       "{'status': 'success',\n",
       " 'continent': 'Europe',\n",
       " 'continentCode': 'EU',\n",
       " 'country': 'Spain',\n",
       " 'countryCode': 'ES',\n",
       " 'region': 'MD',\n",
       " 'regionName': 'Madrid',\n",
       " 'city': 'Getafe',\n",
       " 'district': '',\n",
       " 'zip': '28906',\n",
       " 'lat': 40.3057,\n",
       " 'lon': -3.7329,\n",
       " 'timezone': 'Europe/Madrid',\n",
       " 'offset': 7200,\n",
       " 'currency': 'EUR',\n",
       " 'isp': 'Telefonica de Espana SAU',\n",
       " 'org': 'RIMA (Red IP Multi Acceso)',\n",
       " 'as': 'AS3352 TELEFONICA DE ESPANA',\n",
       " 'asname': 'Telefonica_de_Espana',\n",
       " 'reverse': '26.red-83-42-158.dynamicip.rima-tde.net',\n",
       " 'mobile': False,\n",
       " 'proxy': False,\n",
       " 'hosting': False,\n",
       " 'query': '83.42.158.26'}"
      ]
     },
     "execution_count": 8,
     "metadata": {},
     "output_type": "execute_result"
    }
   ],
   "source": [
    "# Tratamos los datos como json\n",
    "sopa_dict = dict(json.loads(sopa.content))\n",
    "sopa_dict"
   ]
  },
  {
   "cell_type": "code",
   "execution_count": 9,
   "metadata": {},
   "outputs": [
    {
     "name": "stdout",
     "output_type": "stream",
     "text": [
      "Podemos ver que nos muestra el valor de la ciudad, que en mi caso es Getafe.\n",
      "Getafe pertenece a la provincia de Madrid.\n"
     ]
    }
   ],
   "source": [
    "print(\"Podemos ver que nos muestra el valor de la ciudad, que en mi caso es \"+sopa_dict['city']+\".\")\n",
    "print(sopa_dict['city']+\" pertenece a la provincia de \"+sopa_dict['regionName']+\".\")"
   ]
  },
  {
   "cell_type": "code",
   "execution_count": 15,
   "metadata": {},
   "outputs": [
    {
     "name": "stdout",
     "output_type": "stream",
     "text": [
      "la ciudad es Getafe\n",
      "La región es Madrid\n",
      "La ip pública es 83.42.158.26\n",
      "La latitud es 40.3057\n",
      "La longitud es -3.7329\n",
      "El ISP es Telefonica de Espana SAU\n"
     ]
    }
   ],
   "source": [
    "# Obtenemos los valores que necesitamos para el tiempo\n",
    "ciudad = sopa_dict['city']\n",
    "region = sopa_dict['regionName']\n",
    "ip_publica = sopa_dict['query']\n",
    "LAT = sopa_dict['lat']\n",
    "LON = sopa_dict['lon']\n",
    "ISP = sopa_dict['isp']\n",
    "\n",
    "print(\"la ciudad es \"+ciudad)\n",
    "print(\"La región es \"+region)\n",
    "print(\"La ip pública es \"+ip_publica)\n",
    "print(\"La latitud es \"+str(LAT))\n",
    "print(\"La longitud es \"+str(LON))\n",
    "print(\"El ISP es \"+ISP)"
   ]
  },
  {
   "cell_type": "markdown",
   "metadata": {},
   "source": [
    "## El tiempo"
   ]
  },
  {
   "cell_type": "code",
   "execution_count": 16,
   "metadata": {},
   "outputs": [],
   "source": [
    "# La URL de la API\n",
    "url_tiempo = \"https://api.climacell.co/v3/weather/forecast/hourly\""
   ]
  },
  {
   "cell_type": "code",
   "execution_count": null,
   "metadata": {},
   "outputs": [],
   "source": []
  },
  {
   "cell_type": "code",
   "execution_count": null,
   "metadata": {},
   "outputs": [],
   "source": []
  },
  {
   "cell_type": "code",
   "execution_count": null,
   "metadata": {},
   "outputs": [],
   "source": []
  },
  {
   "cell_type": "code",
   "execution_count": null,
   "metadata": {},
   "outputs": [],
   "source": []
  },
  {
   "cell_type": "code",
   "execution_count": null,
   "metadata": {},
   "outputs": [],
   "source": []
  },
  {
   "cell_type": "code",
   "execution_count": null,
   "metadata": {},
   "outputs": [],
   "source": []
  },
  {
   "cell_type": "code",
   "execution_count": null,
   "metadata": {},
   "outputs": [],
   "source": []
  },
  {
   "cell_type": "code",
   "execution_count": null,
   "metadata": {},
   "outputs": [],
   "source": []
  }
 ],
 "metadata": {
  "kernelspec": {
   "display_name": "Python 3",
   "language": "python",
   "name": "python3"
  },
  "language_info": {
   "codemirror_mode": {
    "name": "ipython",
    "version": 3
   },
   "file_extension": ".py",
   "mimetype": "text/x-python",
   "name": "python",
   "nbconvert_exporter": "python",
   "pygments_lexer": "ipython3",
   "version": "3.7.1"
  }
 },
 "nbformat": 4,
 "nbformat_minor": 2
}
